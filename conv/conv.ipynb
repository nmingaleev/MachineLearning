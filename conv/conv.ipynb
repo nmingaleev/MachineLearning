{
 "cells": [
  {
   "cell_type": "markdown",
   "metadata": {},
   "source": [
    "### Dataset description\n"
   ]
  },
  {
   "cell_type": "markdown",
   "metadata": {},
   "source": [
    "The dataset comprises 4000 images of handwritten numbers."
   ]
  },
  {
   "cell_type": "code",
   "execution_count": 1,
   "metadata": {},
   "outputs": [
    {
     "name": "stdout",
     "output_type": "stream",
     "text": [
      "2000 1000 1000\n"
     ]
    }
   ],
   "source": [
    "import os\n",
    "from os import listdir\n",
    "from os.path import isfile, join, splitext\n",
    "\n",
    "train_dir = 'train'\n",
    "# Read all file names from train directory\n",
    "train_files = [f for f in listdir(train_dir) if isfile(join(train_dir, f))]\n",
    "\n",
    "valid_dir = 'valid'\n",
    "# Read all file names from validation directory\n",
    "valid_files = [f for f in listdir(valid_dir) if isfile(join(valid_dir, f))]\n",
    "\n",
    "test_dir = 'test'\n",
    "# Read all file names from test directory\n",
    "test_files = [f for f in listdir(test_dir) if isfile(join(test_dir, f))]\n",
    "print(len(train_files), len(valid_files), len(test_files))"
   ]
  },
  {
   "cell_type": "code",
   "execution_count": 2,
   "metadata": {},
   "outputs": [
    {
     "name": "stdout",
     "output_type": "stream",
     "text": [
      "(2000, 28, 28, 1) (2000, 10)\n"
     ]
    }
   ],
   "source": [
    "from skimage import io\n",
    "import numpy as np\n",
    "from sklearn.preprocessing import OneHotEncoder\n",
    "\n",
    "# Returns images and their labels\n",
    "def get_imgs(files, file_dir):\n",
    "    encoder = OneHotEncoder(sparse=False)\n",
    "    img_list = []\n",
    "    img_labels = []\n",
    "    for file in files:\n",
    "        filepath = join(file_dir, file)\n",
    "        img = io.imread(filepath)\n",
    "        img = np.expand_dims(img, axis=2)\n",
    "        img_list.append(img)\n",
    "        img_labels.append(int(file[10]))\n",
    "    img_labels = np.asarray(img_labels)\n",
    "    img_labels = encoder.fit_transform(img_labels.reshape(-1, 1))\n",
    "    img_list = np.asarray(img_list)\n",
    "    return img_list, img_labels\n",
    "\n",
    "train_imgs, train_labels = get_imgs(train_files, train_dir)\n",
    "valid_imgs, valid_labels = get_imgs(valid_files, valid_dir)\n",
    "test_imgs, test_labels = get_imgs(test_files, test_dir)\n",
    "\n",
    "print(train_imgs.shape, train_labels.shape)"
   ]
  },
  {
   "cell_type": "code",
   "execution_count": 3,
   "metadata": {},
   "outputs": [
    {
     "name": "stderr",
     "output_type": "stream",
     "text": [
      "Using TensorFlow backend.\n",
      "c:\\users\\user\\appdata\\local\\programs\\python\\python36\\lib\\site-packages\\tensorflow\\python\\framework\\dtypes.py:526: FutureWarning: Passing (type, 1) or '1type' as a synonym of type is deprecated; in a future version of numpy, it will be understood as (type, (1,)) / '(1,)type'.\n",
      "  _np_qint8 = np.dtype([(\"qint8\", np.int8, 1)])\n",
      "c:\\users\\user\\appdata\\local\\programs\\python\\python36\\lib\\site-packages\\tensorflow\\python\\framework\\dtypes.py:527: FutureWarning: Passing (type, 1) or '1type' as a synonym of type is deprecated; in a future version of numpy, it will be understood as (type, (1,)) / '(1,)type'.\n",
      "  _np_quint8 = np.dtype([(\"quint8\", np.uint8, 1)])\n",
      "c:\\users\\user\\appdata\\local\\programs\\python\\python36\\lib\\site-packages\\tensorflow\\python\\framework\\dtypes.py:528: FutureWarning: Passing (type, 1) or '1type' as a synonym of type is deprecated; in a future version of numpy, it will be understood as (type, (1,)) / '(1,)type'.\n",
      "  _np_qint16 = np.dtype([(\"qint16\", np.int16, 1)])\n",
      "c:\\users\\user\\appdata\\local\\programs\\python\\python36\\lib\\site-packages\\tensorflow\\python\\framework\\dtypes.py:529: FutureWarning: Passing (type, 1) or '1type' as a synonym of type is deprecated; in a future version of numpy, it will be understood as (type, (1,)) / '(1,)type'.\n",
      "  _np_quint16 = np.dtype([(\"quint16\", np.uint16, 1)])\n",
      "c:\\users\\user\\appdata\\local\\programs\\python\\python36\\lib\\site-packages\\tensorflow\\python\\framework\\dtypes.py:530: FutureWarning: Passing (type, 1) or '1type' as a synonym of type is deprecated; in a future version of numpy, it will be understood as (type, (1,)) / '(1,)type'.\n",
      "  _np_qint32 = np.dtype([(\"qint32\", np.int32, 1)])\n",
      "c:\\users\\user\\appdata\\local\\programs\\python\\python36\\lib\\site-packages\\tensorflow\\python\\framework\\dtypes.py:535: FutureWarning: Passing (type, 1) or '1type' as a synonym of type is deprecated; in a future version of numpy, it will be understood as (type, (1,)) / '(1,)type'.\n",
      "  np_resource = np.dtype([(\"resource\", np.ubyte, 1)])\n"
     ]
    },
    {
     "name": "stdout",
     "output_type": "stream",
     "text": [
      "WARNING:tensorflow:From c:\\users\\user\\appdata\\local\\programs\\python\\python36\\lib\\site-packages\\tensorflow\\python\\framework\\op_def_library.py:263: colocate_with (from tensorflow.python.framework.ops) is deprecated and will be removed in a future version.\n",
      "Instructions for updating:\n",
      "Colocations handled automatically by placer.\n",
      "WARNING:tensorflow:From c:\\users\\user\\appdata\\local\\programs\\python\\python36\\lib\\site-packages\\keras\\backend\\tensorflow_backend.py:3144: calling dropout (from tensorflow.python.ops.nn_ops) with keep_prob is deprecated and will be removed in a future version.\n",
      "Instructions for updating:\n",
      "Please use `rate` instead of `keep_prob`. Rate should be set to `rate = 1 - keep_prob`.\n",
      "WARNING:tensorflow:From c:\\users\\user\\appdata\\local\\programs\\python\\python36\\lib\\site-packages\\tensorflow\\python\\ops\\math_ops.py:3066: to_int32 (from tensorflow.python.ops.math_ops) is deprecated and will be removed in a future version.\n",
      "Instructions for updating:\n",
      "Use tf.cast instead.\n",
      "Epoch 1/9\n",
      "62/62 [==============================] - 1s 23ms/step - loss: 1.6893 - acc: 0.4168 - val_loss: 3.8090 - val_acc: 0.7510\n",
      "Epoch 2/9\n",
      "62/62 [==============================] - 1s 17ms/step - loss: 0.8679 - acc: 0.7228 - val_loss: 1.5744 - val_acc: 0.8970\n",
      "Epoch 3/9\n",
      "62/62 [==============================] - 2s 25ms/step - loss: 0.6218 - acc: 0.8065 - val_loss: 1.4929 - val_acc: 0.9020\n",
      "Epoch 4/9\n",
      "62/62 [==============================] - 2s 27ms/step - loss: 0.4661 - acc: 0.8604 - val_loss: 1.6853 - val_acc: 0.8900\n",
      "Epoch 5/9\n",
      "62/62 [==============================] - 2s 27ms/step - loss: 0.4149 - acc: 0.8674 - val_loss: 1.4138 - val_acc: 0.9090\n",
      "Epoch 6/9\n",
      "62/62 [==============================] - 2s 27ms/step - loss: 0.3782 - acc: 0.8821 - val_loss: 1.4122 - val_acc: 0.9100\n",
      "Epoch 7/9\n",
      "62/62 [==============================] - 2s 27ms/step - loss: 0.2995 - acc: 0.9148 - val_loss: 1.2077 - val_acc: 0.9230\n",
      "Epoch 8/9\n",
      "62/62 [==============================] - 2s 27ms/step - loss: 0.3145 - acc: 0.8997 - val_loss: 0.9130 - val_acc: 0.9420\n",
      "Epoch 9/9\n",
      "62/62 [==============================] - 2s 28ms/step - loss: 0.2549 - acc: 0.9189 - val_loss: 0.9194 - val_acc: 0.9400\n"
     ]
    },
    {
     "data": {
      "text/plain": [
       "<keras.callbacks.History at 0x2328b3799b0>"
      ]
     },
     "execution_count": 3,
     "metadata": {},
     "output_type": "execute_result"
    }
   ],
   "source": [
    "import keras\n",
    "from keras.layers import Conv2D, MaxPooling2D, Dropout\n",
    "from keras.layers import Flatten, Dense\n",
    "from keras.models import Sequential\n",
    "\n",
    "# Returns compiled model\n",
    "def get_model(input_shape, class_count):\n",
    "    model = Sequential()\n",
    "    model.add(Conv2D(32, kernel_size=(3, 3),\n",
    "                     activation='relu', input_shape=input_shape))\n",
    "    model.add(MaxPooling2D(pool_size=(2, 2)))\n",
    "    model.add(Conv2D(64, kernel_size=(3, 3),\n",
    "                     activation='relu'))\n",
    "    model.add(MaxPooling2D(pool_size=(2, 2)))\n",
    "    model.add(Dropout(0.25))\n",
    "    model.add(Flatten())\n",
    "    model.add(Dense(64, activation='relu'))\n",
    "    model.add(Dropout(0.25))\n",
    "    model.add(Dense(class_count, activation='softmax'))\n",
    "\n",
    "    model.compile(loss=keras.losses.categorical_crossentropy,\n",
    "                  optimizer='adam', metrics=['accuracy'])\n",
    "    \n",
    "    return model\n",
    "\n",
    "from keras.callbacks import Callback\n",
    "\n",
    "# Custom callback class for keeping train-loss and valid-loss\n",
    "class CustomCallback(Callback):\n",
    "    def on_train_begin(self, logs={}):\n",
    "        self.train_loss = []\n",
    "        self.val_loss = []\n",
    "        \n",
    "    def on_epoch_end(self, epoch, logs={}):\n",
    "        self.train_loss.append(logs.get('loss'))\n",
    "        self.val_loss.append(logs.get('val_loss'))\n",
    "\n",
    "custom_callback = CustomCallback()\n",
    "\n",
    "from keras.preprocessing.image import ImageDataGenerator\n",
    "\n",
    "# Create augmentation data generator\n",
    "datagen = ImageDataGenerator(\n",
    "    featurewise_center=True,\n",
    "    featurewise_std_normalization=True,\n",
    "    rotation_range=5,\n",
    "    width_shift_range=0.1,\n",
    "    height_shift_range=0.1)\n",
    "\n",
    "model = get_model(train_imgs[0].shape, train_labels[0].shape[0])\n",
    "\n",
    "datagen.fit(train_imgs)\n",
    "\n",
    "epochs = 9\n",
    "\n",
    "model.fit_generator(datagen.flow(train_imgs, train_labels,\n",
    "                                 batch_size=32, shuffle=True),\n",
    "                    steps_per_epoch=int(train_imgs.shape[0] / 32),\n",
    "                    epochs=epochs,\n",
    "                    validation_data=(valid_imgs, valid_labels),\n",
    "                    callbacks = [custom_callback])\n"
   ]
  },
  {
   "cell_type": "code",
   "execution_count": 4,
   "metadata": {},
   "outputs": [
    {
     "data": {
      "image/png": "[encoded data removed]",
      "text/plain": [
       "<Figure size 720x504 with 1 Axes>"
      ]
     },
     "metadata": {},
     "output_type": "display_data"
    }
   ],
   "source": [
    "from sklearn.metrics import confusion_matrix, accuracy_score, precision_score, recall_score\n",
    "import matplotlib.pyplot as plt\n",
    "%matplotlib inline\n",
    "import itertools\n",
    "\n",
    "def loss_graph(epochs, train_loss, val_loss):\n",
    "    x_axis = np.linspace(1, epochs, num=epochs)\n",
    "    \n",
    "    plt.figure(figsize=(10, 7))\n",
    "    plt.plot(x_axis, train_loss, color='b', lw=3, alpha=0.7, label='Train Loss')\n",
    "    plt.plot(x_axis, val_loss, color='r', lw=3, alpha=0.7, label='Val Loss')\n",
    "    plt.title('Loss graph')\n",
    "    plt.xlabel('Epoch')\n",
    "    plt.ylabel('Loss')\n",
    "    plt.legend(loc='upper right')\n",
    "    plt.grid(True)\n",
    "\n",
    "loss_graph(epochs, custom_callback.train_loss, custom_callback.val_loss)"
   ]
  },
  {
   "cell_type": "code",
   "execution_count": 5,
   "metadata": {},
   "outputs": [
    {
     "name": "stdout",
     "output_type": "stream",
     "text": [
      "Accuracy: 0.944\n",
      "Precision: 0.944\n",
      "Recall: 0.944\n"
     ]
    },
    {
     "data": {
      "image/png": "[encoded data removed]",
      "text/plain": [
       "<Figure size 432x288 with 2 Axes>"
      ]
     },
     "metadata": {},
     "output_type": "display_data"
    }
   ],
   "source": [
    "def plot_confusion_matrix(cm, classes):\n",
    "    plt.imshow(cm, interpolation='nearest', cmap=plt.cm.Blues)\n",
    "    plt.title('Матрица ошибок')\n",
    "    plt.colorbar()\n",
    "    tick_marks = np.arange(len(classes))\n",
    "    plt.xticks(tick_marks, classes)\n",
    "    plt.yticks(tick_marks, classes)\n",
    "\n",
    "    thresh = cm.max() / 2.\n",
    "    for i, j in itertools.product(range(cm.shape[0]), range(cm.shape[1])):\n",
    "        plt.text(j, i, format(cm[i, j], 'd'),\n",
    "                 horizontalalignment=\"center\",\n",
    "                 color=\"white\" if cm[i, j] > thresh else \"black\")\n",
    "\n",
    "    plt.ylabel('True')\n",
    "    plt.xlabel('Predicted')\n",
    "    plt.tight_layout()\n",
    "\n",
    "\n",
    "predictions = model.predict(test_imgs)\n",
    "\n",
    "test_labels_labeled = np.argmax(test_labels, axis=1)\n",
    "predictions_labeled = np.argmax(predictions, axis=1)\n",
    "\n",
    "acc = accuracy_score(test_labels_labeled, predictions_labeled)\n",
    "# 'micro' calculates metrics globally by counting the total true positives, false negatives and false positives.\n",
    "prec = precision_score(test_labels_labeled, predictions_labeled, average='micro')\n",
    "rec = recall_score(test_labels_labeled, predictions_labeled, average='micro')\n",
    "\n",
    "print('Accuracy:', acc)\n",
    "print('Precision:', prec)\n",
    "print('Recall:', rec)\n",
    "\n",
    "cm = confusion_matrix(test_labels_labeled, predictions_labeled)\n",
    "plot_confusion_matrix(cm, ['0', '1', '2', '3', '4', '5', '6', '7', '8', '9'])"
   ]
  },
  {
   "cell_type": "markdown",
   "metadata": {},
   "source": [
    "### Conclusion"
   ]
  },
  {
   "cell_type": "markdown",
   "metadata": {},
   "source": [
    "We have implemented a convolutional neural network for hand written numbers classification. We have tried 3 different configurations with different number of neurons in different layers.\n",
    "Results:\n",
    "\n",
    "32 64 64\n",
    "\n",
    "    Accuracy: 0.944\n",
    "    Precision: 0.944\n",
    "    Recall: 0.944\n",
    "    \n",
    "16 32 32\n",
    "\n",
    "    Accuracy: 0.914\n",
    "    Precision: 0.914\n",
    "    Recall: 0.914\n",
    "    \n",
    "8 16 16\n",
    "\n",
    "    Accuracy: 0.852\n",
    "    Precision: 0.852\n",
    "    Recall: 0.852\n",
    "    \n",
    "The best result was shown the network with the biggest number of neurons in each layer.    "
   ]
  },
  {
   "cell_type": "code",
   "execution_count": null,
   "metadata": {},
   "outputs": [],
   "source": []
  }
 ],
 "metadata": {
  "kernelspec": {
   "display_name": "Python 3",
   "language": "python",
   "name": "python3"
  },
  "language_info": {
   "codemirror_mode": {
    "name": "ipython",
    "version": 3
   },
   "file_extension": ".py",
   "mimetype": "text/x-python",
   "name": "python",
   "nbconvert_exporter": "python",
   "pygments_lexer": "ipython3",
   "version": "3.6.8"
  }
 },
 "nbformat": 4,
 "nbformat_minor": 2
}
